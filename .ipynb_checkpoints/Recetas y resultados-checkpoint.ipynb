{
 "cells": [
  {
   "cell_type": "code",
   "execution_count": 3,
   "metadata": {},
   "outputs": [
    {
     "name": "stdout",
     "output_type": "stream",
     "text": [
      "Ingrese la fecha: 29 de Mayo de 2019\n",
      "Ingrese el nombre del paciente: Miguel Hidalgo\n",
      "Ingrese probable diagnostico: Cinusitis\n",
      "Ingrese el medicamentos: Paracetamol cada 24 hrs\n",
      "Ingrese el medicamento (En dado caso de no mencionar, presionar enter): \n",
      "Ingrese el medicamento (En dado caso de no mencionar, presionar enter): \n"
     ]
    }
   ],
   "source": [
    "f = open (\"receta.txt\", \"w\")\n",
    "f.write(\"INSTITUTO MEXICANO DEL SEGURO SOCIALLLL \\n Doctor: Benito Juarez \\n  Cedula Profesional: 37283blablabla \\n Receta Individual \\n\")\n",
    "A=str(input(\"Ingrese la fecha: \"))\n",
    "M= str(input(\"Ingrese el nombre del paciente: \"))\n",
    "d=str(input(\"Ingrese probable diagnostico: \"))\n",
    "k=str(input(\"Ingrese el medicamentos: \"))\n",
    "o=str(input(\"Ingrese el medicamento (En dado caso de no mencionar, presionar enter): \"))\n",
    "oo=str(input(\"Ingrese el medicamento (En dado caso de no mencionar, presionar enter): \"))\n",
    "f.write('\\n' + 'Fecha: ' + A) \n",
    "f.write('\\n' + 'Nombre del paciente: ' + M)\n",
    "f.write('\\n' + 'Probable diagnostico: ' + d)\n",
    "f.write('\\n' + '\\n'+ 'Medicamentos recetados: ' + '\\n' + k)\n",
    "f.write('\\n'+ o)\n",
    "f.write('\\n' + oo)\n",
    "\n",
    "f.close()"
   ]
  },
  {
   "cell_type": "code",
   "execution_count": null,
   "metadata": {},
   "outputs": [],
   "source": [
    "f = open (\"resultados.txt\", \"w\")\n",
    "f.write(\"INSTITUTO MEXICANO DEL SEGURO SOCIALLLL \\n  Doctor.Benito Juarez \\n  Cedula Profesional. 37283blablabla \\n Resultados Analisis \\n\")\n",
    "A=str(input(\"Ingrese la fecha: \"))\n",
    "M= str(input(\"Ingrese el nombre del paciente: \"))\n",
    "\n",
    "f.write(A)\n",
    "f.write(M)\n",
    "f.close()"
   ]
  }
 ],
 "metadata": {
  "kernelspec": {
   "display_name": "Python 3",
   "language": "python",
   "name": "python3"
  },
  "language_info": {
   "codemirror_mode": {
    "name": "ipython",
    "version": 3
   },
   "file_extension": ".py",
   "mimetype": "text/x-python",
   "name": "python",
   "nbconvert_exporter": "python",
   "pygments_lexer": "ipython3",
   "version": "3.6.7"
  }
 },
 "nbformat": 4,
 "nbformat_minor": 2
}
