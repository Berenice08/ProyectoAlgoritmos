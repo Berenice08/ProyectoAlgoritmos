{
 "cells": [
  {
   "cell_type": "code",
   "execution_count": 1,
   "metadata": {},
   "outputs": [],
   "source": [
    "#Notebook para generar la base de datos con las tablas de Usuarios, Pacientes y Citas"
   ]
  },
  {
   "cell_type": "code",
   "execution_count": 1,
   "metadata": {},
   "outputs": [],
   "source": [
    "from __future__ import print_function\n",
    "import mysql.connector\n",
    "from datetime import date, datetime, timedelta\n",
    "from mysql.connector import errorcode"
   ]
  },
  {
   "cell_type": "code",
   "execution_count": 2,
   "metadata": {},
   "outputs": [],
   "source": [
    "DB_NAME = 'HOSPITAL_PRUEBA1'"
   ]
  },
  {
   "cell_type": "code",
   "execution_count": 3,
   "metadata": {},
   "outputs": [],
   "source": [
    "TABLAS = {}"
   ]
  },
  {
   "cell_type": "code",
   "execution_count": 4,
   "metadata": {},
   "outputs": [],
   "source": [
    "TABLAS['Pacientes'] = (\n",
    "    \"CREATE TABLE `Pacientes` (\"\n",
    "    \"  `Numero_de_paciente` int(11) AUTO_INCREMENT,\"\n",
    "    \"  `Fecha_de_nacimiento` date,\"\n",
    "    \"  `Apellidos` varchar(255),\"\n",
    "    \"  `Nombres` varchar(255),\"\n",
    "    \"  `Genero` enum('M','F'),\"\n",
    "    \"  PRIMARY KEY (`Numero_de_paciente`)\"\n",
    "    \") ENGINE=InnoDB\")\n",
    "\n",
    "TABLAS['Especialidades'] = (\n",
    "    \"CREATE TABLE `Especialidades` (\"\n",
    "    \"  `Numero_de_especialidad` char(4),\"\n",
    "    \"  `Nombre_de_especialidad` varchar(40),\"\n",
    "    \"  PRIMARY KEY (`Numero_de_especialidad`), UNIQUE KEY `Nombre_de_especialidad` (`Nombre_de_especialidad`)\"\n",
    "    \") ENGINE=InnoDB\")\n",
    "\n",
    "TABLAS['Atencion_medica'] = (\n",
    "    \"CREATE TABLE `Atencion_medica` (\"\n",
    "    \"  `Numero_de_paciente` int(11),\"\n",
    "    \"  `Enfermedad` varchar(255),\"\n",
    "    \"  `Desde_la_fecha` date,\"\n",
    "    \"  `Hasta_la_fecha` date,\"\n",
    "    \"  PRIMARY KEY (`Numero_de_paciente`,`Desde_la_fecha`), KEY `Numero_de_paciente` (`Numero_de_paciente`),\"\n",
    "    \"KEY `Enfermedad` (`Enfermedad`),\"\n",
    "    \"CONSTRAINT `Atencion_medica_1` FOREIGN KEY (`Numero_de_paciente`)\"\n",
    "    \"  REFERENCES `Pacientes` (`Numero_de_paciente`) ON DELETE CASCADE\"\n",
    "    \") ENGINE=InnoDB\")\n",
    "TABLAS['Citas'] = (\n",
    "    \"CREATE TABLE `Citas` (\"\n",
    "    \"  `ID` int(11) AUTO_INCREMENT,\"\n",
    "    \"  `Nombre` varchar(255) NOT NULL,\"\n",
    "    \"  `Edad` int(11) NOT NULL,\"\n",
    "    \"  `Genero` enum('M','F') NOT NULL,\"\n",
    "    \"  `Direccion` varchar(255) NOT NULL,\"\n",
    "    \"  `Telefono` int(11) NOT NULL,\"\n",
    "    \"  `Hora_cita` varchar(255) NOT NULL,\"\n",
    "    \"  PRIMARY KEY (`ID`)\"\n",
    "    \") ENGINE=InnoDB\")\n",
    "TABLAS['Usuarios'] = (\n",
    "    \"CREATE TABLE `Usuarios` (\"\n",
    "    \"  `ID` int(11) AUTO_INCREMENT,\"\n",
    "    \"  `User` varchar(255) NOT NULL,\"\n",
    "    \"  `Password` varchar(255) NOT NULL,\"\n",
    "    \"  `Permisos`int(11),\"\n",
    "    \"  PRIMARY KEY (`ID`)\"\n",
    "    \") ENGINE=InnoDB\")\n",
    "    "
   ]
  },
  {
   "cell_type": "code",
   "execution_count": 5,
   "metadata": {},
   "outputs": [
    {
     "name": "stdout",
     "output_type": "stream",
     "text": [
      "<mysql.connector.connection.MySQLConnection object at 0xb3c9c40c>\n"
     ]
    }
   ],
   "source": [
    "mydb = mysql.connector.connect(user=\"root\",password=\"perrito\",host=\"localhost\")\n",
    "print(mydb)\n",
    "mycursor = mydb.cursor()"
   ]
  },
  {
   "cell_type": "code",
   "execution_count": 6,
   "metadata": {},
   "outputs": [],
   "source": [
    "def create_database(mycursor):\n",
    "    try:\n",
    "        mycursor.execute(\n",
    "            \"CREATE DATABASE {} DEFAULT CHARACTER SET 'utf8'\".format(DB_NAME))\n",
    "    except mysql.connector.Error as err:\n",
    "        print(\"Failed creating database: {}\".format(err))\n",
    "        exit(1)\n",
    "\n",
    "try:\n",
    "    mycursor.execute(\"USE {}\".format(DB_NAME))\n",
    "except mysql.connector.Error as err:\n",
    "    print(\"Database {} does not exists.\".format(DB_NAME))\n",
    "    if err.errno == errorcode.ER_BAD_DB_ERROR:\n",
    "        create_database(mycursor)\n",
    "        print(\"Database {} created successfully.\".format(DB_NAME))\n",
    "        mydb.database = DB_NAME\n",
    "    else:\n",
    "        print(err)\n",
    "        exit(1)"
   ]
  },
  {
   "cell_type": "code",
   "execution_count": 7,
   "metadata": {},
   "outputs": [
    {
     "name": "stdout",
     "output_type": "stream",
     "text": [
      "Creating table Pacientes: already exists.\n",
      "Creating table Especialidades: already exists.\n",
      "Creating table Atencion_medica: already exists.\n",
      "Creating table Citas: already exists.\n",
      "Creating table Usuarios: OK\n"
     ]
    }
   ],
   "source": [
    "for table_name in TABLAS:\n",
    "    table_description = TABLAS[table_name]\n",
    "    try:\n",
    "        print(\"Creating table {}: \".format(table_name), end='')\n",
    "        mycursor.execute(table_description)\n",
    "    except mysql.connector.Error as err:\n",
    "        if err.errno == errorcode.ER_TABLE_EXISTS_ERROR:\n",
    "            print(\"already exists.\")\n",
    "        else:\n",
    "            print(err.msg)\n",
    "    else:\n",
    "        print(\"OK\")\n",
    "\n",
    "mycursor.close()\n",
    "mydb.close()"
   ]
  },
  {
   "cell_type": "code",
   "execution_count": 8,
   "metadata": {},
   "outputs": [],
   "source": [
    "mycursor.close()\n",
    "mydb.close()"
   ]
  },
  {
   "cell_type": "code",
   "execution_count": null,
   "metadata": {},
   "outputs": [],
   "source": []
  }
 ],
 "metadata": {
  "kernelspec": {
   "display_name": "Python 3",
   "language": "python",
   "name": "python3"
  },
  "language_info": {
   "codemirror_mode": {
    "name": "ipython",
    "version": 3
   },
   "file_extension": ".py",
   "mimetype": "text/x-python",
   "name": "python",
   "nbconvert_exporter": "python",
   "pygments_lexer": "ipython3",
   "version": "3.7.3"
  }
 },
 "nbformat": 4,
 "nbformat_minor": 2
}
